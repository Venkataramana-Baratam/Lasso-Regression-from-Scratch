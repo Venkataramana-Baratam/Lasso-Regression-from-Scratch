{
  "nbformat": 4,
  "nbformat_minor": 0,
  "metadata": {
    "colab": {
      "provenance": []
    },
    "kernelspec": {
      "name": "python3",
      "display_name": "Python 3"
    },
    "language_info": {
      "name": "python"
    }
  },
  "cells": [
    {
      "cell_type": "code",
      "execution_count": 5,
      "metadata": {
        "id": "C3GbKFfMWX4Z"
      },
      "outputs": [],
      "source": [
        "import numpy as np"
      ]
    },
    {
      "cell_type": "code",
      "source": [
        "class Lasso_Regression:\n",
        "\n",
        "    def __init__(self, learning_rate, no_of_iterations, lambda_parameter):\n",
        "        self.learning_rate = learning_rate\n",
        "        self.no_of_iterations = no_of_iterations\n",
        "        self.lambda_parameter = lambda_parameter\n",
        "\n",
        "    def fit(self, X, Y):\n",
        "        self.m, self.n = X.shape\n",
        "        self.w = np.zeros(self.n)\n",
        "        self.b = 0\n",
        "        self.X = X\n",
        "        self.Y = Y\n",
        "\n",
        "        for i in range(self.no_of_iterations):\n",
        "            self.update_weights()\n",
        "\n",
        "    def update_weights(self):\n",
        "        y_predict = self.predict(self.X)\n",
        "\n",
        "        dw = np.zeros(self.n)\n",
        "        for i in range(self.n):\n",
        "            if self.w[i] > 0:\n",
        "                dw[i] = (-2 * np.dot(self.X[:, i], (self.Y - y_predict)) + self.lambda_parameter) / self.m\n",
        "            else:\n",
        "                dw[i] = (-2 * np.dot(self.X[:, i], (self.Y - y_predict)) - self.lambda_parameter) / self.m\n",
        "\n",
        "        db = -2 * np.sum(self.Y - y_predict) / self.m\n",
        "\n",
        "        self.w = self.w - self.learning_rate * dw\n",
        "        self.b = self.b - self.learning_rate * db\n",
        "\n",
        "    def predict(self, X):\n",
        "        return np.dot(X, self.w) + self.b\n"
      ],
      "metadata": {
        "id": "rbuLqsSgWj8H"
      },
      "execution_count": 7,
      "outputs": []
    },
    {
      "cell_type": "code",
      "source": [],
      "metadata": {
        "id": "qyNtpkpNbOlZ"
      },
      "execution_count": null,
      "outputs": []
    }
  ]
}